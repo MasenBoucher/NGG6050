{
  "cells": [
    {
      "cell_type": "markdown",
      "metadata": {
        "id": "1dDxGH6oElUI"
      },
      "source": [
        "[![Open In Colab](https://colab.research.google.com/assets/colab-badge.svg)](https://colab.research.google.com/github/PennNGG/Quantitative-Neuroscience/blob/master/Probability%20Distributions/Python/Binomial.ipynb)"
      ]
    },
    {
      "cell_type": "markdown",
      "metadata": {
        "id": "pKIiY6p3GRFq"
      },
      "source": [
        "# Definition"
      ]
    },
    {
      "cell_type": "markdown",
      "metadata": {
        "id": "x7VmLUr5GTNw"
      },
      "source": [
        "The binomial distribution is a discrete probability distribution that describes the probability of obtaining exactly k successes out of n Bernoulli trials, which are individual binary outcomes that each have a success probability of p. For example, if you flip a coin 10 times, what is the probability that it will come up heads 0, 1, 2, ... 10 times?\n",
        "\n",
        "Mathematically, this distribution defines the probability of obtaining *k* successes in *n* trials given a constant probability of success *p* on each trial, which is defined as:\n",
        "\n",
        "[1] $P(X=k\\: successes)=\\left ( \\frac{n}{k} \\right )p^{k}\\left ( 1-p \\right )^{n-k}$\n",
        "\n",
        "for *k* = 0, 1, 2, ... , *n*, and where\n",
        "\n",
        "$\\left ( \\frac{n}{k} \\right )=\\frac{n!}{k!\\left ( n-k \\right )!}$\n",
        "\n",
        " is called the \"binomial coefficient\" and is pronounced \"[n-choose-k](https://www.hackmath.net/en/calculator/n-choose-k)\""
      ]
    },
    {
      "cell_type": "markdown",
      "metadata": {
        "id": "bkVu6eGKIIiQ"
      },
      "source": [
        "# Getting Started with Code\n"
      ]
    },
    {
      "cell_type": "markdown",
      "metadata": {
        "id": "gxusMZ-UN_6m"
      },
      "source": [
        "Matlab code is found in the [NGG Statistics GitHub Repository](https://github.com/PennNGG/Statistics.git) under \"Probability Distributions/Binomial.m\".\n",
        "\n",
        "Python code is included below. First run the code cell just below to make sure all of the required Python modules are loaded, then you can run the other cell(s)."
      ]
    },
    {
      "cell_type": "code",
      "execution_count": null,
      "metadata": {
        "id": "W633IbbRIdwa"
      },
      "outputs": [],
      "source": [
        "import numpy as np\n",
        "import random as rnd\n",
        "import collections\n",
        "import matplotlib.pyplot as plt\n",
        "import time\n",
        "import scipy.stats as st\n",
        "\n",
        "from scipy.stats import bernoulli, binom, poisson, chi2\n",
        "from IPython.display import clear_output\n",
        "from operator import itemgetter\n",
        "from statsmodels.stats import proportion\n",
        "\n",
        "from numpy import matlib"
      ]
    },
    {
      "cell_type": "markdown",
      "metadata": {
        "id": "u3yXPCmMH2CH"
      },
      "source": [
        "# Tutorial"
      ]
    },
    {
      "cell_type": "code",
      "execution_count": null,
      "metadata": {
        "colab": {
          "base_uri": "https://localhost:8080/"
        },
        "id": "4ESB1xpmItGp",
        "outputId": "216b20b2-7641-4653-8abe-ae96090448a9"
      },
      "outputs": [
        {
          "output_type": "stream",
          "name": "stdout",
          "text": [
            "693 successes out of 1000 trials, simulated p = 0.7000, empirical p = 0.6930\n"
          ]
        }
      ],
      "source": [
        "# Choose some values for the parameters n and p\n",
        "p = 0.7\n",
        "n = 1000\n",
        "\n",
        "# Generate random picks. Note that this is as if we generated Bernoulli trials\n",
        "#   as above, but then just counted the successes in each \"experiment\"\n",
        "num_successes = binom.rvs(n,p) # uses the \"random variates\" method (rvs) of binom\n",
        "\n",
        "# Print out the results\n",
        "print(f'{num_successes} successes out of {n} trials, simulated p = {p:.4f}, empirical p = {num_successes/n:.4f}')"
      ]
    },
    {
      "cell_type": "code",
      "execution_count": null,
      "metadata": {
        "colab": {
          "base_uri": "https://localhost:8080/",
          "height": 472
        },
        "id": "AWJMhBIZIuFU",
        "outputId": "46b38862-8a7b-4dea-ec3c-774f5cb45886"
      },
      "outputs": [
        {
          "output_type": "display_data",
          "data": {
            "text/plain": [
              "<Figure size 640x480 with 2 Axes>"
            ],
            "image/png": "[encoded data removed]"
          },
          "metadata": {}
        }
      ],
      "source": [
        "# The full probability distribution describes the probabilty of obtaining each\n",
        "#   possible number of successes (k), given n and p. If we set n=10, the the\n",
        "#   possible values of k are 0, 1, ..., 10. Now we use binom.rvs to simulate\n",
        "#   many different picks to get a full distribution\n",
        "p = 0.7\n",
        "n = 10                      # number of \"trials\" per \"experiment\"\n",
        "num_experiments = 1000;     # number of \"experiments\"\n",
        "outcomes = binom.rvs(n,p,size=num_experiments)\n",
        "\n",
        "# Show a bar plot (histogram) of all of the possible outcomes\n",
        "counts = collections.Counter(outcomes)\n",
        "plt.subplot(211)\n",
        "plt.bar(counts.keys(), counts.values())\n",
        "plt.xlim([-1, n+1])\n",
        "plt.title(f'Binomial distribution, n={n}, p={p:.2f}, {num_experiments} simulations')\n",
        "plt.ylabel('Count')\n",
        "\n",
        "# Show a normalized version that is a pdf. Here counts (the x-axis of the histogram)\n",
        "#   is a DISCRETE variable, so we just have to add up the values\n",
        "normalized_counts = {k: v / total for total in (sum(counts.values()),) for k, v in counts.items()}\n",
        "plt.subplot(212)\n",
        "plt.bar(normalized_counts.keys(), normalized_counts.values())\n",
        "plt.xlim([-1, n+1])\n",
        "plt.xlabel(f'Probability of success in {n} tries')\n",
        "plt.ylabel('Probability')\n",
        "plt.subplots_adjust(hspace=0.3)"
      ]
    },
    {
      "cell_type": "code",
      "execution_count": null,
      "metadata": {
        "colab": {
          "base_uri": "https://localhost:8080/",
          "height": 472
        },
        "id": "XxTbmZOSJEl8",
        "outputId": "6826fa8c-907a-4abd-8669-13f723977fbb"
      },
      "outputs": [
        {
          "output_type": "display_data",
          "data": {
            "text/plain": [
              "<Figure size 640x480 with 1 Axes>"
            ],
            "image/png": "[encoded data removed]"
          },
          "metadata": {}
        }
      ],
      "source": [
        "# Now let's make a fun animation showing different values of p and N.\n",
        "#   Note that, of course, the more picks you make of the random variable\n",
        "#   (higher N), the more closely the outcomes (the \"samples\") match the true\n",
        "#   distribution.\n",
        "n=10\n",
        "xs = range(0, n)\n",
        "f = plt.figure()\n",
        "for p in np.arange(0, 1, 0.1):\n",
        "    for N in np.round(np.logspace(1,5,10)):\n",
        "\n",
        "        # Get the true binomial pdf\n",
        "        Y = binom.pmf(xs,n,p)\n",
        "\n",
        "        # Get the random picks, make histogram and normalize\n",
        "        counts = collections.Counter(binom.rvs(n,p,size=int(N)))\n",
        "        normalized_counts = {k: v / total for total in (sum(counts.values()),) for k, v in counts.items()}\n",
        "\n",
        "        # Show both\n",
        "        plt.bar(normalized_counts.keys(), normalized_counts.values())\n",
        "        plt.plot(xs, Y, 'ro-', linewidth=2, markersize=10)\n",
        "\n",
        "        # Labels, etc\n",
        "        plt.title(f'p={p:.1f}, n={n}, N={N:.2f}')\n",
        "        plt.xlabel(f'Number of successes in {n} tries')\n",
        "        plt.ylabel('Probability')\n",
        "        plt.axis([-1, n+1, 0, 0.45])\n",
        "        plt.legend(('Theoretical', 'Simulated'))\n",
        "        plt.show()\n",
        "\n",
        "        # Wait\n",
        "        time.sleep(0.1)\n",
        "\n",
        "        # Clear for next plot\n",
        "        clear_output(wait=True)\n",
        "\n"
      ]
    },
    {
      "cell_type": "code",
      "execution_count": null,
      "metadata": {
        "colab": {
          "base_uri": "https://localhost:8080/",
          "height": 490
        },
        "id": "kUAJ6LCyJbRN",
        "outputId": "b235fd66-137a-40c9-ff36-eae9a94325d2"
      },
      "outputs": [
        {
          "output_type": "execute_result",
          "data": {
            "text/plain": [
              "<matplotlib.legend.Legend at 0x79ba11605870>"
            ]
          },
          "metadata": {},
          "execution_count": 5
        },
        {
          "output_type": "display_data",
          "data": {
            "text/plain": [
              "<Figure size 640x480 with 1 Axes>"
            ],
            "image/png": "[encoded data removed]"
          },
          "metadata": {}
        }
      ],
      "source": [
        "# The cumulative distribution function is just the proability of obtaining an\n",
        "#   outcome that is equal to OR LESS THAN a particular value.\n",
        "p = 0.7\n",
        "n = 10                      # number of \"trials\" per \"experiment\"\n",
        "num_experiments = 1000;     # number of \"experiments\"\n",
        "outcomes = binom.rvs(n,p,size=num_experiments)\n",
        "\n",
        "# Make histogram\n",
        "counts = collections.Counter(outcomes)\n",
        "\n",
        "# Unzip keys from values in a sorted order\n",
        "keys, values = zip(*sorted(counts.items(), key=itemgetter(0)))\n",
        "\n",
        "# Compute the cumulative sum of the counts normalized by the total counts (so\n",
        "#   it is a probability function and not just a histogram -- note that the final\n",
        "#   value in the cdf should equal 1 because every value should be equal to or\n",
        "#   less than that value).\n",
        "total = sum(values)\n",
        "cumulative_ps = [x/total for x in np.cumsum(values)]\n",
        "\n",
        "# Plot as a bar graph\n",
        "plt.bar(keys, cumulative_ps)\n",
        "\n",
        "# Compare it to the real binomial cumulative distribution, which we find\n",
        "#   using binom.cdf\n",
        "Y = binom.cdf(keys,n,p)\n",
        "plt.plot(keys, Y, 'ro-', linewidth=2, markersize=10)\n",
        "\n",
        "# Labels, etc\n",
        "plt.title(f'Cumulative binomial distribution, p={p:.1f}, n={n}, N={num_experiments}')\n",
        "plt.xlabel(f'Number of successes in {n} tries')\n",
        "plt.ylabel('Cumulative probability')\n",
        "plt.legend(('Theoretical', 'Simulated'))"
      ]
    },
    {
      "cell_type": "markdown",
      "metadata": {
        "id": "NPyYR5dgJ4Q9"
      },
      "source": [
        "# Neuroscience Example: Quantal Release"
      ]
    },
    {
      "cell_type": "markdown",
      "metadata": {
        "id": "Egvzk_qLKOYl"
      },
      "source": [
        "From: Johnson, E.W., and Wernig, A. (1971). [The binomial nature of transmitter release at the crayfish neuromuscular junction](https://www.ncbi.nlm.nih.gov/pmc/articles/PMC1331610/). J Physiol 218, 757-767.\n",
        "\n",
        "Classic studies by [Bernard Katz and colleagues](https://www.ncbi.nlm.nih.gov/pmc/articles/PMC2151334/) indicated that chemical neurotransmitters are released from presynaptic nerve terminals in discrete quanta, or packets, with a relatively constant release probability. A straightforward implication of this idea is that the release statistics (i.e., the distribution of the number of quanta that are actually released in response to a given event like an action potential reaching the presynaptic nerve terminal) should follow a binomial distribution. As stated by Johnson and Wernig:\n",
        "\n",
        "\"If the average probability of release is constant, then it follows from the hypothesis that the relative frequency of 0, 1, 2, 3, . . . quantal releases in a series of trials is given by the successive terms in the binomial expansion $(p + q)^n$, where *q*=1–*p* is the average probability that a quantum will not be released. In a given trial, the probability that *x* quanta will be released (*px*) is given by the binomial term\" [i.e., Eq. 1, above, but substitute *x* for *k*].\n",
        "\n",
        "In other words, if there are *n* available quanta in a presynaptic terminal, and each is released with probability *p*, then the number of quanta that are actually released should follow a binomial distribution with parameters *n* and *p*.\n",
        "\n",
        "Answers to the exercises below will be found [here](https://github.com/PennNGG/Quantitative-Neuroscience/tree/master/Answers%20to%20Exercises/Python) after the due date."
      ]
    },
    {
      "cell_type": "markdown",
      "metadata": {
        "id": "VveIEEiyLUSk"
      },
      "source": [
        "## Exercise 1\n",
        "Assume that there are 10 quanta available in a nerve terminal, and for a given release event each is released with a probability of 0.2. For one such event, what is the probability that 0, 1, 2, 3, 4, 5, 6, 7, 8, 9, or 10 quanta will be released?"
      ]
    },
    {
      "cell_type": "code",
      "source": [
        "#Code modified from above examples\n",
        "# Choose setting parameters n and p\n",
        "p = 0.2\n",
        "n = 10\n",
        "trials=1000000 #Running a lot of trials to try to better approximate the probability\n",
        "\n",
        "outcomes = binom.rvs(n,p,size=trials)\n",
        "\n",
        "# Show a bar plot (histogram) of all of the possible outcomes\n",
        "counts = collections.Counter(outcomes)\n",
        "plt.subplot(211)\n",
        "plt.bar(counts.keys(), counts.values())\n",
        "plt.xlim([-1, n+1])\n",
        "plt.title(f'Binomial distribution, n={n}, p={p:.2f}, {trials} simulations')\n",
        "plt.ylabel('Count')\n",
        "\n",
        "# Show a normalized version that is a pdf. Here counts (the x-axis of the histogram)\n",
        "#   is a DISCRETE variable, so we just have to add up the values\n",
        "normalized_counts = {k: v / total for total in (sum(counts.values()),) for k, v in counts.items()}\n",
        "plt.subplot(212)\n",
        "plt.bar(normalized_counts.keys(), normalized_counts.values())\n",
        "plt.xlim([-1, n+1])\n",
        "plt.xlabel(f'Probability of success in {n} tries')\n",
        "plt.ylabel('Probability')\n",
        "plt.subplots_adjust(hspace=0.3)"
      ],
      "metadata": {
        "id": "eqMM3Y0oQVHO",
        "colab": {
          "base_uri": "https://localhost:8080/",
          "height": 472
        },
        "outputId": "13fe0e1b-5d87-4edf-8ddf-898934a9742a"
      },
      "execution_count": null,
      "outputs": [
        {
          "output_type": "display_data",
          "data": {
            "text/plain": [
              "<Figure size 640x480 with 2 Axes>"
            ],
            "image/png": "[encoded data removed]"
          },
          "metadata": {}
        }
      ]
    },
    {
      "cell_type": "markdown",
      "metadata": {
        "id": "eG7Kvl5pL4jf"
      },
      "source": [
        "## Exercise 2\n",
        "Let's say you know that a given nerve terminal contains exactly 14 quanta available for release. You have read in the literature that the release probability of these quanta is low, say 0.1. To assess whether this value is reasonable, you run a simple experiment: activate the nerve and measure the number of quanta that are released. The result is 8 quanta. What is the probability that you would get this result (8 quanta) if the true probability of release really was 0.1? What about if the true release probability was much higher; say, 0.7? What about for each decile of release probability (0.1, 0.2, ... 1.0)? Which value of release probability did you determine to be the most probable, given your measurement?\n",
        "\n",
        "Note: here you are computing a likelihood function: a function describing how the value of the conditional probability *p*(*data* | *parameters*) changes when you hold your data fixed to the value(s) you measured and vary the value(s) of the parameter(s) of, in this case, the binomial distribution. Because you are varying the parameters and not the data, the values of the function are not expected to sum to one (e.g., you can have numerous parameters that have a very high probability of producing the given data) and thus this function is not a probability distribution (see [here](https://www.psychologicalscience.org/observer/bayes-for-beginners-probability-and-likelihood) for an extended discussion). The maximum value of this function is called the maximum likelihood."
      ]
    },
    {
      "cell_type": "code",
      "source": [
        "#What is the probability that you would get this result (8 quanta) if the true probability of release really was 0.1?\n",
        "#Our parameters based on the question\n",
        "p = 0.1\n",
        "updatedp=0.7\n",
        "n = 14\n",
        "trials=1\n",
        "\n",
        "#Calculating the probability of 8 quanta being released if the probability of 0.1 is in place\n",
        "st.binom.pmf(k=8,n=n,p=p)"
      ],
      "metadata": {
        "colab": {
          "base_uri": "https://localhost:8080/"
        },
        "id": "E-rkH9bddsiJ",
        "outputId": "c4b08339-a25c-46fc-a29f-12ab9e2b8e34"
      },
      "execution_count": null,
      "outputs": [
        {
          "output_type": "execute_result",
          "data": {
            "text/plain": [
              "1.5959173230000027e-05"
            ]
          },
          "metadata": {},
          "execution_count": 101
        }
      ]
    },
    {
      "cell_type": "markdown",
      "source": [
        "The above calculation indicates that the probability, given 14 quanta and a probability of release of 0.1, that 8 quanta were released is 0.0000159591732. As the question suggests, given these parameters, the odds of running one trial and detecting a release of 8 quanta is incredibly small. It is then likely that the probability of release being 0.1 is a miscalculation and the true value is much higher."
      ],
      "metadata": {
        "id": "EyGB0JnLwHvx"
      }
    },
    {
      "cell_type": "code",
      "source": [
        "#What about if the true release probability was much higher; say, 0.7?\n",
        "#Our parameters based on the question (with an updated probability)\n",
        "p = 0.1\n",
        "updatedp=0.7\n",
        "n = 14\n",
        "trials=1\n",
        "result=8\n",
        "\n",
        "#Calculating the probability of 8 quanta being released if the updated probability (updated) of 0.7 is in place\n",
        "st.binom.pmf(k=8,n=n,p=updatedp)"
      ],
      "metadata": {
        "id": "K25h0kh6jTcP",
        "colab": {
          "base_uri": "https://localhost:8080/"
        },
        "outputId": "58d693ae-016c-4d51-91d4-38bee6e96db5"
      },
      "execution_count": null,
      "outputs": [
        {
          "output_type": "execute_result",
          "data": {
            "text/plain": [
              "0.12620227406787007"
            ]
          },
          "metadata": {},
          "execution_count": 102
        }
      ]
    },
    {
      "cell_type": "markdown",
      "source": [
        "With a release probability that is much higher (like 0.7), the probability that 8 quanta were released is still just 0.12620227, which while being low is much more likely than when the release probability is 0.1."
      ],
      "metadata": {
        "id": "HJ7plPNPxcPx"
      }
    },
    {
      "cell_type": "code",
      "source": [
        "#What about for each decile of release probability (0.1, 0.2, ... 1.0)?\n",
        "#Our parameters based on the question (with an updated probability)\n",
        "p = 0.1\n",
        "updatedp=0.7\n",
        "n = 14\n",
        "trials=1\n",
        "result=8\n",
        "probabilityrange = np.array([0.1, 0.2, 0.3, 0.4, 0.5, 0.6, 0.7, 0.8, 0.9, 1.0])\n",
        "\n",
        "#Calculating the probability of 8 quanta being released if across the probability range\n",
        "for x in probabilityrange:\n",
        "  print('Release Probability of 8 given an Overall Release Probability=',x,':',st.binom.pmf(k=8,n=n,p=x))"
      ],
      "metadata": {
        "colab": {
          "base_uri": "https://localhost:8080/"
        },
        "id": "AzW9x7a1xWlc",
        "outputId": "e1c36660-2f3e-4918-d340-d85ba81e136d"
      },
      "execution_count": null,
      "outputs": [
        {
          "output_type": "stream",
          "name": "stdout",
          "text": [
            "Release Probability of 8 given an Overall Release Probability= 0.1 : 1.5959173230000027e-05\n",
            "Release Probability of 8 given an Overall Release Probability= 0.2 : 0.002015279185920003\n",
            "Release Probability of 8 given an Overall Release Probability= 0.3 : 0.023180009522669968\n",
            "Release Probability of 8 given an Overall Release Probability= 0.4 : 0.09182115790847997\n",
            "Release Probability of 8 given an Overall Release Probability= 0.5 : 0.18328857421875008\n",
            "Release Probability of 8 given an Overall Release Probability= 0.6 : 0.20659760529407983\n",
            "Release Probability of 8 given an Overall Release Probability= 0.7 : 0.12620227406787007\n",
            "Release Probability of 8 given an Overall Release Probability= 0.8 : 0.03224446697471998\n",
            "Release Probability of 8 given an Overall Release Probability= 0.9 : 0.001292693031629999\n",
            "Release Probability of 8 given an Overall Release Probability= 1.0 : 0.0\n"
          ]
        }
      ]
    },
    {
      "cell_type": "markdown",
      "source": [
        "Based on the above calculation, with 14 quanta and a release of 8, the probability of release is more likely wirh an overall release probability of 0.6. With an overall release probability of 0.6, the release of 8 quanta has a probability of 0.2065976."
      ],
      "metadata": {
        "id": "mYLIKOKpjnT4"
      }
    },
    {
      "cell_type": "markdown",
      "metadata": {
        "id": "-INGaYFtM-Cp"
      },
      "source": [
        "## Exercise 3\n",
        "\n",
        "Not feeling convinced by your single experiment (good scientist!), you repeat it under identical conditions. This time you measure 5 quanta that were released. Your sample size has now doubled, to two measurements. You now want to take into account both measurements when you assess the likelihoods of different possible values of the underlying release probability. To do so, assume that the two measurements in this sample are independent of one another; that is, the value of each result had no bearing on the other. In this case, the total likelihood is simply the product of the likelihoods associated with each separate measurement. It is also typical to compute the logarithm of each likelihood and take their sum, which is often more convenient. What are the values of the total likelihood and total log-likelihood in this example, if we assume that the true release probability is 0.1?\n",
        "\n",
        "Of course, knowing those values of the likelihood and log-likelihood is not particularly useful until you can compare them to the values computed for other possible values for the release probability, so you can determine which value of release probability is most likely, given the data. Therefore, compute the full likelihood and log-likelihood functions using deciles of release probability between 0 and 1. What is the maximum value? Can you improve your estimate by computing the functions at a higher resolution? How does the estimate improve as you increase the sample size?"
      ]
    },
    {
      "cell_type": "code",
      "source": [
        "#What about for each decile of release probability (0.1, 0.2, ... 1.0)?\n",
        "#Our parameters based on the question (with an updated probability)\n",
        "p = 0.1\n",
        "updatedp=0.7\n",
        "n = 14\n",
        "trials=1\n",
        "result1=8\n",
        "result2=5\n",
        "probabilityrange = np.array([0.1, 0.2, 0.3, 0.4, 0.5, 0.6, 0.7, 0.8, 0.9, 1.0])\n",
        "\n",
        "#Calculating the full likelihood of 8 quanta being released if across the probability range\n",
        "for x in probabilityrange:\n",
        "  print('Full-Likelihood: Release Probability of 8 given an Overall Release Probability=',x,':',st.binom.pmf(k=result1,n=n,p=x))\n",
        "\n",
        "#Calculating the log likelihood of 8 quanta being released if across the probability range\n",
        "for x in probabilityrange:\n",
        "  print('Full-Likelihood: Release Probability of 8 given an Overall Release Probability=',x,':',st.binom.logpmf(k=result1,n=n,p=x))"
      ],
      "metadata": {
        "id": "2GSY1EjLgttB",
        "colab": {
          "base_uri": "https://localhost:8080/"
        },
        "outputId": "0b9376fe-ad8b-48a5-90c4-e0e6adaec61e"
      },
      "execution_count": null,
      "outputs": [
        {
          "output_type": "stream",
          "name": "stdout",
          "text": [
            "Full-Likelihood: Release Probability of 8 given an Overall Release Probability= 0.1 : 1.5959173230000027e-05\n",
            "Full-Likelihood: Release Probability of 8 given an Overall Release Probability= 0.2 : 0.002015279185920003\n",
            "Full-Likelihood: Release Probability of 8 given an Overall Release Probability= 0.3 : 0.023180009522669968\n",
            "Full-Likelihood: Release Probability of 8 given an Overall Release Probability= 0.4 : 0.09182115790847997\n",
            "Full-Likelihood: Release Probability of 8 given an Overall Release Probability= 0.5 : 0.18328857421875008\n",
            "Full-Likelihood: Release Probability of 8 given an Overall Release Probability= 0.6 : 0.20659760529407983\n",
            "Full-Likelihood: Release Probability of 8 given an Overall Release Probability= 0.7 : 0.12620227406787007\n",
            "Full-Likelihood: Release Probability of 8 given an Overall Release Probability= 0.8 : 0.03224446697471998\n",
            "Full-Likelihood: Release Probability of 8 given an Overall Release Probability= 0.9 : 0.001292693031629999\n",
            "Full-Likelihood: Release Probability of 8 given an Overall Release Probability= 1.0 : 0.0\n",
            "Full-Likelihood: Release Probability of 8 given an Overall Release Probability= 0.1 : -11.04547676991599\n",
            "Full-Likelihood: Release Probability of 8 given an Overall Release Probability= 0.2 : -6.206997539374729\n",
            "Full-Likelihood: Release Probability of 8 given an Overall Release Probability= 0.3 : -3.7644650302565523\n",
            "Full-Likelihood: Release Probability of 8 given an Overall Release Probability= 0.4 : -2.387912529605853\n",
            "Full-Likelihood: Release Probability of 8 given an Overall Release Probability= 0.5 : -1.6966934598559025\n",
            "Full-Likelihood: Release Probability of 8 given an Overall Release Probability= 0.6 : -1.5769823133895242\n",
            "Full-Likelihood: Release Probability of 8 given an Overall Release Probability= 0.7 : -2.0698693094821436\n",
            "Full-Likelihood: Release Probability of 8 given an Overall Release Probability= 0.8 : -3.4344088171349494\n",
            "Full-Likelihood: Release Probability of 8 given an Overall Release Probability= 0.9 : -6.651027615243555\n",
            "Full-Likelihood: Release Probability of 8 given an Overall Release Probability= 1.0 : -inf\n"
          ]
        }
      ]
    },
    {
      "cell_type": "code",
      "source": [
        "#Our parameters based on the question (with an updated probability)\n",
        "p = 0.1\n",
        "updatedp=0.7\n",
        "n = 14\n",
        "trials=1\n",
        "result1=8\n",
        "result2=5\n",
        "probabilityrange = np.array([0.1, 0.2, 0.3, 0.4, 0.5, 0.6, 0.7, 0.8, 0.9, 1.0])\n",
        "\n",
        "#Calculating the full likelihood of 5 quanta being released if across the probability range\n",
        "for x in probabilityrange:\n",
        "  print('Full-Likelihood: Release Probability of 5 given an Overall Release Probability=',x,':',st.binom.pmf(k=result2,n=n,p=x))\n",
        "\n",
        "#Calculating the log likelihood of 5 quanta being released if across the probability range\n",
        "for x in probabilityrange:\n",
        "  print('Full-Likelihood: Release Probability of 5 given an Overall Release Probability=',x,':',st.binom.logpmf(k=result2,n=n,p=x))"
      ],
      "metadata": {
        "colab": {
          "base_uri": "https://localhost:8080/"
        },
        "id": "mwSq25K2-Bcs",
        "outputId": "b9f95ef7-2ead-445f-950b-55c8bcfc23ea"
      },
      "execution_count": null,
      "outputs": [
        {
          "output_type": "stream",
          "name": "stdout",
          "text": [
            "Full-Likelihood: Release Probability of 5 given an Overall Release Probability= 0.1 : 0.007756158189780006\n",
            "Full-Likelihood: Release Probability of 5 given an Overall Release Probability= 0.2 : 0.08598524526592008\n",
            "Full-Likelihood: Release Probability of 5 given an Overall Release Probability= 0.3 : 0.19631464855001982\n",
            "Full-Likelihood: Release Probability of 5 given an Overall Release Probability= 0.4 : 0.20659760529407992\n",
            "Full-Likelihood: Release Probability of 5 given an Overall Release Probability= 0.5 : 0.12219238281249986\n",
            "Full-Likelihood: Release Probability of 5 given an Overall Release Probability= 0.6 : 0.04080940351488005\n",
            "Full-Likelihood: Release Probability of 5 given an Overall Release Probability= 0.7 : 0.006622859863619999\n",
            "Full-Likelihood: Release Probability of 5 given an Overall Release Probability= 0.8 : 0.00033587986432000004\n",
            "Full-Likelihood: Release Probability of 5 given an Overall Release Probability= 0.9 : 1.1821609799999994e-06\n",
            "Full-Likelihood: Release Probability of 5 given an Overall Release Probability= 1.0 : 0.0\n",
            "Full-Likelihood: Release Probability of 5 given an Overall Release Probability= 0.1 : -4.859268146015496\n",
            "Full-Likelihood: Release Probability of 5 given an Overall Release Probability= 0.2 : -2.453579564123222\n",
            "Full-Likelihood: Release Probability of 5 given an Overall Release Probability= 0.3 : -1.6280365572031048\n",
            "Full-Likelihood: Release Probability of 5 given an Overall Release Probability= 0.4 : -1.5769823133895233\n",
            "Full-Likelihood: Release Probability of 5 given an Overall Release Probability= 0.5 : -2.102158567964067\n",
            "Full-Likelihood: Release Probability of 5 given an Overall Release Probability= 0.6 : -3.198842745822181\n",
            "Full-Likelihood: Release Probability of 5 given an Overall Release Probability= 0.7 : -5.017227998751918\n",
            "Full-Likelihood: Release Probability of 5 given an Overall Release Probability= 0.8 : -7.998757008602785\n",
            "Full-Likelihood: Release Probability of 5 given an Overall Release Probability= 0.9 : -13.648166455360379\n",
            "Full-Likelihood: Release Probability of 5 given an Overall Release Probability= 1.0 : -inf\n"
          ]
        }
      ]
    },
    {
      "cell_type": "code",
      "source": [
        "#The highest release probability for 8 is an overall release probability of 0.6 and for 5 is an overall release probability of 0.4.\n",
        "\n",
        "#If the the release probabilty is 0.6, the probability of 8 quant and 5 quanta being release is:\n",
        "likelihood6=(st.binom.pmf(k=8,n=n,p=0.6)*st.binom.pmf(k=5,n=n,p=0.6))\n",
        "loglikelihood6=(st.binom.logpmf(k=8,n=n,p=0.6)*st.binom.pmf(k=5,n=n,p=0.6))\n",
        "print('Likelihood of 8 and 5 quanta being released with an overall release probability of 0.6',likelihood6)\n",
        "print('Log-likelihood of 8 and 5 quanta being released with an overall release probability of 0.6',loglikelihood6)\n",
        "\n",
        "#If the the release probabilty is 0.4, the probability of 8 quant and 5 quanta being release is:\n",
        "likelihood4=(st.binom.pmf(k=8,n=n,p=0.4)*st.binom.pmf(k=5,n=n,p=0.4))\n",
        "loglikelihood4=(st.binom.logpmf(k=8,n=n,p=0.4)*st.binom.pmf(k=5,n=n,p=0.4))\n",
        "print('Likelihood of 8 and 5 quanta being released with an overall release probability of 0.4',likelihood4)\n",
        "print('Log-likelihood of 8 and 5 quanta being released with an overall release probability of 0.4',loglikelihood4)"
      ],
      "metadata": {
        "colab": {
          "base_uri": "https://localhost:8080/"
        },
        "id": "2oh3ZVtY-JCI",
        "outputId": "92a56cf8-aa68-4cb7-fdff-b83831854e36"
      },
      "execution_count": null,
      "outputs": [
        {
          "output_type": "stream",
          "name": "stdout",
          "text": [
            "Likelihood of 8 and 5 quanta being released with an overall release probability of 0.6 0.008431125039654023\n",
            "Log-likelihood of 8 and 5 quanta being released with an overall release probability of 0.6 -0.06435570756294212\n",
            "Likelihood of 8 and 5 quanta being released with an overall release probability of 0.4 0.01897003133922153\n",
            "Log-likelihood of 8 and 5 quanta being released with an overall release probability of 0.4 -0.49333701026829796\n"
          ]
        }
      ]
    },
    {
      "cell_type": "markdown",
      "source": [
        "As the most likely overall release probability for an 8 quanta release is 0.6 and the most likely overall release probability for a 5 quanta release in 0.4, I compare how both overall release probabilities would affect an 8 quanta and a 5 quanta release in concert. The above results suggest that an overall release probability of 0.4 is more likely (probability of 0.01897003 vs. 0.008431125) to result in two events of 8 quanta and 5 quanta release."
      ],
      "metadata": {
        "id": "rXFrZZWYFUvx"
      }
    },
    {
      "cell_type": "markdown",
      "metadata": {
        "id": "GCN6aNp1N0nC"
      },
      "source": [
        "## Exercise 4\n",
        "\n",
        "You keep going and conduct 100 separate experiments and end up with these results:\n",
        "\n",
        "Measured releases\t| Count\n",
        "---------------- | -------\n",
        "0 | 0\n",
        "1 | 0\n",
        "2 | 3\n",
        "3 | 7\n",
        "4 | 10\n",
        "5 | 19\n",
        "6 | 26\n",
        "7 | 16\n",
        "8 | 16\n",
        "9 | 5\n",
        "10 | 5\n",
        "11 | 0\n",
        "12 | 0\n",
        "13 | 0\n",
        "14 | 0\n",
        "\n",
        "What is the most likely value of *p* (which we typically refer to as $\\hat{p}$, which is pronounced as \"p-hat\" and represents the maximum-likelihood estimate of a parameter in the population given our sample with a resolution of 0.01?\n",
        "\n",
        "BONUS: Use a fitting procedure to find $\\hat{p}$."
      ]
    },
    {
      "cell_type": "code",
      "source": [
        "#Calculating the p-hat value based on the above data distribution\n",
        "#If we are interested in overall quantal release...\n",
        "events=np.array([0,1,2,3,4,5,6,7,8,9,10,11,12,13,14])\n",
        "counts=np.array([0,0,3,7,10,19,26,16,16,5,5,0,0,0,0])\n",
        "experiments=100\n",
        "quanta=14\n",
        "\n",
        "#Calculating total releases\n",
        "totalrelease=0\n",
        "for x in range(len(counts)):\n",
        "    totalrelease=totalrelease+counts[x]\n",
        "\n",
        "#Calculating average release\n",
        "avgrelease=totalrelease/experiments\n",
        "\n",
        "# Calculating p-hat\n",
        "phat=avgrelease/quanta\n",
        "\n",
        "print(\"Calculated value of p-hat:\",phat)"
      ],
      "metadata": {
        "colab": {
          "base_uri": "https://localhost:8080/"
        },
        "id": "Z29f2fJsHshm",
        "outputId": "1cf9f55b-b676-41f2-cea9-46186f5b4608"
      },
      "execution_count": null,
      "outputs": [
        {
          "output_type": "stream",
          "name": "stdout",
          "text": [
            "Calculated value of p-hat: 0.07642857142857143\n"
          ]
        }
      ]
    },
    {
      "cell_type": "markdown",
      "metadata": {
        "id": "9BZG29IBSo6E"
      },
      "source": [
        "## Exercise 5\n",
        "\n",
        "Let's say that you have run an exhaustive set of experiments on this synapse and have determined that the true release probability is 0.3 (within some very small tolerance). Now you want to test whether changing the temperature of the preparation affects the release probability. So you change the temperature, perform the experiment, and measure 7 quantal events for the same 14 available quanta. Compute $\\hat{p}$. Standard statistical inference now asks the question, what is the probability that you would have obtained that measurement given a Null Hypothesis of no effect? In this case, no effect corresponds to an unchanged value of the true release probability (i.e., its value remained at 0.3 even with the temperature change). What is the probability that you would have gotten that measurement if your Null Hypothesis were true? Can you conclude that temperature had an effect?"
      ]
    },
    {
      "cell_type": "code",
      "source": [
        "#If we measure 7 quantal events out of the same available 14 quanta...\n",
        "#Calculating the p-hat value based on the updated data\n",
        "#If we are interested in overall quantal release...\n",
        "counts=7\n",
        "experiments=100\n",
        "quanta=14\n",
        "\n",
        "#Calculating average release\n",
        "avgrelease=counts/experiments\n",
        "\n",
        "# Calculating p-hat\n",
        "phat=avgrelease/quanta\n",
        "\n",
        "print(\"Calculated value of p-hat:\",phat)"
      ],
      "metadata": {
        "id": "PyHbpeKAIixa",
        "colab": {
          "base_uri": "https://localhost:8080/"
        },
        "outputId": "93a1e589-5f93-4275-a56f-ce36270004dd"
      },
      "execution_count": null,
      "outputs": [
        {
          "output_type": "stream",
          "name": "stdout",
          "text": [
            "Calculated value of p-hat: 0.005\n"
          ]
        }
      ]
    },
    {
      "cell_type": "code",
      "source": [
        "#Probability of obtaining this measurement with a Null Hypothesis of no effect\n",
        "#If we are interested in overall quantal release...\n",
        "counts=7\n",
        "experiments=100\n",
        "quanta=14\n",
        "p=0.3\n",
        "\n",
        "#Calculating the probability given the null hypothesis is of no effect\n",
        "probability = binom.pmf(counts, quanta, p)\n",
        "\n",
        "print(\"Probability of 7 quanta being released (given the null hypothesis is of no effect):\",probability)"
      ],
      "metadata": {
        "colab": {
          "base_uri": "https://localhost:8080/"
        },
        "id": "2WZgYOaWUEua",
        "outputId": "3db6f6f8-8fac-4787-f0c1-8c6e43ee0d77"
      },
      "execution_count": null,
      "outputs": [
        {
          "output_type": "stream",
          "name": "stdout",
          "text": [
            "Probability of 7 quanta being released (given the null hypothesis is of no effect): 0.06181335872712\n"
          ]
        }
      ]
    },
    {
      "cell_type": "code",
      "source": [
        "#Probability of obtaining this measurement with a Null Hypothesis of effect:\n",
        "#If we are interested in overall quantal release...\n",
        "counts=7\n",
        "experiments=100\n",
        "quanta=14\n",
        "p=0.3\n",
        "\n",
        "# Variables\n",
        "#n = 14  # total number of quanta\n",
        "#k = 7  # number of quanta released\n",
        "#p = 0.3  # release probability under the null hypothesis\n",
        "\n",
        "# Compute the p-value for observing 7 or more successes\n",
        "probability = binom.sf(counts-1, quanta, p)\n",
        "\n",
        "# Display the result\n",
        "print(\"Probability of 7 quanta being released (given the null hypothesis is of effect):\",probability)\n"
      ],
      "metadata": {
        "colab": {
          "base_uri": "https://localhost:8080/"
        },
        "id": "H4S9TAh2WWq2",
        "outputId": "f0bb0a0c-7c02-410b-9132-ad2b700c19e8"
      },
      "execution_count": null,
      "outputs": [
        {
          "output_type": "stream",
          "name": "stdout",
          "text": [
            "Probability of 7 quanta being released (given the null hypothesis is of effect): 0.09328189116275992\n"
          ]
        }
      ]
    },
    {
      "cell_type": "markdown",
      "source": [
        "Assuming a p-value of 0.05, we cannot conclude that temperature had an effect on the outcome."
      ],
      "metadata": {
        "id": "9W_7xNClYJ-8"
      }
    },
    {
      "cell_type": "markdown",
      "metadata": {
        "id": "UFYyaeLwTb35"
      },
      "source": [
        "## Bonus Exercise\n",
        "\n",
        "These data are reproduced from Tables 1 and 2 of Johnson and Wernig. Note that *nx* indicates the number of trials (\"release events\") with *x* measured events. Each row is a separate experiment (don't worry about the ordering, which here is reproduced as it is in the paper).\n",
        "\n",
        "Temp (°C)\t| n0\t| n1\t| n2\t| n3\t| n4\t| n5+\n",
        "--- | --| --- | --- | --- | --- | ---\n",
        "4.0\t| 615\t| 206\t| 33\t| 2\t| 0\t| 0\n",
        "3.5\t| 604\t| 339\t| 94\t| 11\t| 2\t| 0\n",
        "0.0 | \t332\t| 126\t| 21\t| 1\t| 0\t| 0\n",
        "2.0\t| 573\t| 443\t| 154\t| 28\t| 2\t| 0\n",
        "6.5\t| 172\t| 176\t| 89\t| 12\t| 1\t| 0\n",
        "3.0\t| 80\t| 224\t| 200\t| 32\t| 4\t| 0\n",
        "\n",
        "You can probably already see that some experiments resulted in primarily zero or one events per trial (e.g., the top experiment), whereas others tended to have more events (e.g., the bottom experiment).\n",
        "\n",
        "Do the quantal event numbers follow a binomial distribution? If so, then that would lend support to the idea that the events are generated by a process that can be characterized in terms of the number of available quanta and the average probability of release of each quantum.\n",
        "\n",
        "Provide a qualitative answer to this question by comparing the empirical distributions (see the data table, above) to the predicted binomial distribution. To get the predicted distribution (i.e., the probabilities associated with each value of *k* from Eq. 1, given the release probability p and the number of available quanta *n*), you need to determine both *k* and *n* from the empirical measurements. To determine *p*, use Eq. 5 in the paper: $p=1-\\frac{\\sigma ^{2}}{m}$\n",
        "\n",
        "where $\\sigma ^{2}$ is the variance and *m* is the mean of the trial-by-trial counts that can be determined from the data. To determine *n*, compute *m*/*p* (because *m* = *n* x *p*).\n",
        "\n",
        "As an added bonus, also include the predicted Poisson distribution, which can be computed using only the mean number of events (*m*, described above).\n",
        "\n"
      ]
    },
    {
      "cell_type": "markdown",
      "metadata": {
        "id": "TxctXRrXQqv4"
      },
      "source": [
        "# Additional Resources\n",
        "\n",
        "Working with the binomial distribution in [Matlab](https://www.mathworks.com/help/stats/binomial-distribution.html), [R](https://www.rdocumentation.org/packages/stats/versions/3.3/topics/Binomial), and [Python](https://docs.scipy.org/doc/scipy/reference/generated/scipy.stats.binom.html)."
      ]
    },
    {
      "cell_type": "markdown",
      "metadata": {
        "id": "tteEm2Qlgbb3"
      },
      "source": [
        "# Credits\n",
        "\n",
        "Copyright 2021 by Joshua I. Gold, University of Pennsylvania"
      ]
    }
  ],
  "metadata": {
    "colab": {
      "provenance": []
    },
    "kernelspec": {
      "display_name": "Python 3",
      "name": "python3"
    },
    "language_info": {
      "name": "python"
    }
  },
  "nbformat": 4,
  "nbformat_minor": 0
}
