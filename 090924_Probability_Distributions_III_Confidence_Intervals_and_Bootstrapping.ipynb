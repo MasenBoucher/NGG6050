{
  "nbformat": 4,
  "nbformat_minor": 0,
  "metadata": {
    "colab": {
      "provenance": []
    },
    "kernelspec": {
      "name": "python3",
      "display_name": "Python 3"
    },
    "language_info": {
      "name": "python"
    }
  },
  "cells": [
    {
      "cell_type": "markdown",
      "source": [
        "Masen Boucher\n",
        "\n",
        "Quantitative Neuroscience\n",
        "\n",
        "September 09, 2024\n",
        "\n",
        "Probability Distributions III: Confidence Intervals and Bootstrapping\n"
      ],
      "metadata": {
        "id": "fnl__AZdmkMS"
      }
    },
    {
      "cell_type": "markdown",
      "source": [
        "Exercises:\n",
        "\n",
        "Compute confidence/credible intervals based on the four methods above for simulated data sampled from a population that is Gaussian distributed with mean\n",
        "u=10 and standard deviation o=2, for n=5, 10, 20, 40, 80, 160, 1000 at a 95% confidence level. (u used to represent mu, o used to represent sigma)"
      ],
      "metadata": {
        "id": "nFyiRo_qmvrI"
      }
    },
    {
      "cell_type": "code",
      "source": [
        "#Importing needed Python packages\n",
        "import scipy.stats as st\n",
        "import array as arr\n",
        "import numpy as np"
      ],
      "metadata": {
        "id": "jJCOckEpMlPo"
      },
      "execution_count": 38,
      "outputs": []
    },
    {
      "cell_type": "code",
      "execution_count": 124,
      "metadata": {
        "colab": {
          "base_uri": "https://localhost:8080/"
        },
        "id": "csC4Y2gLkoD4",
        "outputId": "a80bf7f6-7b59-402d-e48c-c65ad7594596"
      },
      "outputs": [
        {
          "output_type": "stream",
          "name": "stdout",
          "text": [
            "Way 1. The simple, analytic approach with large n and/or known standard deviation\n",
            "Confidence Interval: [6.080072030919892, 13.919927969080108]\n"
          ]
        }
      ],
      "source": [
        "#Way 1. The simple, analytic approach with large n and/or known standard deviation\n",
        "\n",
        "u=10\n",
        "o=2\n",
        "n = np.array([5,10,20,40,80,160,1000])\n",
        "confidence=0.95\n",
        "area=0.5*(1-confidence)\n",
        "\n",
        "#Calculating the Z-Score to determine the confidence interval\n",
        "bottombound=st.norm.ppf(area,loc=u,scale=o) #z-score that represents bottom bound of Confidence Interval\n",
        "\n",
        "topbound=(st.norm.ppf(1-area,loc=u,scale=o)) #z-score that represents top bound of Confidence Interval\n",
        "\n",
        "print('Way 1. The simple, analytic approach with large n and/or known standard deviation')\n",
        "\n",
        "#Putting it together into a clear read out\n",
        "confidenceinterval_way1= [bottombound,topbound]\n",
        "print('Confidence Interval:', confidenceinterval_way1)"
      ]
    },
    {
      "cell_type": "markdown",
      "source": [
        "Way 1 takes into account the mean, standard deviation, and confidence level to calculate the confidence interval. It does not take into account the sample 'n.' Thus, in the above code, only one confidence interval is calculated despite there being 7 different 'n's to test."
      ],
      "metadata": {
        "id": "u_1Ul5PrPq7u"
      }
    },
    {
      "cell_type": "code",
      "source": [
        "#Way 2. The simple, analytic approach with small n and unknown population standard deviation\n",
        "\n",
        "u=10\n",
        "o=2\n",
        "n = np.array([5,10,20,40,80,160,1000])\n",
        "confidence=0.95\n",
        "area=0.5*(1-confidence)\n",
        "\n",
        "print('Way 2. The simple, analytic approach with small n and unknown population standard deviation')\n",
        "\n",
        "for x in n:\n",
        "  #Calculating the T-Score to determine the confidence interval\n",
        "  bottombound=st.t.ppf(area,df=(x-1),loc=u,scale=o)\n",
        "  topbound=st.t.ppf(1-area,df=(x-1),loc=u,scale=o)\n",
        "  #Putting it together into a clear read out\n",
        "  confidenceinterval_way2= [bottombound,topbound]\n",
        "  print('Confidence Interval for sample size of',x,':', confidenceinterval_way2)\n",
        "\n"
      ],
      "metadata": {
        "colab": {
          "base_uri": "https://localhost:8080/"
        },
        "id": "_RXd9H1cP9vV",
        "outputId": "846c0f06-4762-483a-fb48-9cedfa231499"
      },
      "execution_count": 123,
      "outputs": [
        {
          "output_type": "stream",
          "name": "stdout",
          "text": [
            "Way 2. The simple, analytic approach with small n and unknown population standard deviation\n",
            "Confidence Interval for sample size of 5 : [4.4471097896044025, 15.552890210395597]\n",
            "Confidence Interval for sample size of 10 : [5.475685674291801, 14.524314325708199]\n",
            "Confidence Interval for sample size of 20 : [5.813951891183474, 14.186048108816525]\n",
            "Confidence Interval for sample size of 40 : [5.954618159926479, 14.04538184007352]\n",
            "Confidence Interval for sample size of 80 : [6.019099579539743, 13.980900420460257]\n",
            "Confidence Interval for sample size of 160 : [6.050007574479549, 13.94999242552045]\n",
            "Confidence Interval for sample size of 1000 : [6.075317077733103, 13.924682922266896]\n"
          ]
        }
      ]
    },
    {
      "cell_type": "code",
      "source": [
        "#Way 3. Bootstrapped confidence intervals\n",
        "\n",
        "u=10\n",
        "o=2\n",
        "#n = arr.array('i', [5,10,20,40,80,160,1000])\n",
        "n=np.array([5,10,20,40,80,160,1000])\n",
        "confidence=0.95\n",
        "area=0.5*(1-confidence)\n",
        "\n",
        "print('Way 3. Bootstrapped confidence intervals')\n",
        "\n",
        "for x in n:\n",
        "  data = []\n",
        "  #Creating a random sample using our mean, standard deviation, and each of the sample sizes\n",
        "  randnumgen = np.random.default_rng()\n",
        "  dataset = randnumgen.normal(loc=u, scale=o, size=x)\n",
        "  data.append(dataset)\n",
        "  #Performing the bootstrap to calculate the mean\n",
        "  bootstrap = st.bootstrap(data, np.mean, confidence_level=confidence, n_resamples=9999, random_state=randnumgen)\n",
        "  print('For N of',x,':',bootstrap.confidence_interval)"
      ],
      "metadata": {
        "colab": {
          "base_uri": "https://localhost:8080/"
        },
        "id": "GbJs9QbUSc-l",
        "outputId": "3e343ae6-60af-405c-f2e7-32200a3a3667"
      },
      "execution_count": 122,
      "outputs": [
        {
          "output_type": "stream",
          "name": "stdout",
          "text": [
            "Way 3. Bootstrapped confidence intervals\n",
            "For N of 5 : ConfidenceInterval(low=10.426661708915749, high=12.893039261289388)\n",
            "For N of 10 : ConfidenceInterval(low=8.874604561487972, high=11.654292194648955)\n",
            "For N of 20 : ConfidenceInterval(low=8.884774690912186, high=11.06834920149599)\n",
            "For N of 40 : ConfidenceInterval(low=8.787381604709164, high=9.902749298723052)\n",
            "For N of 80 : ConfidenceInterval(low=9.566677958306215, high=10.396569560839565)\n",
            "For N of 160 : ConfidenceInterval(low=9.755163215864638, high=10.420790152774142)\n",
            "For N of 1000 : ConfidenceInterval(low=9.972027689066405, high=10.220986233788171)\n"
          ]
        }
      ]
    },
    {
      "cell_type": "code",
      "source": [
        "#Way 4. Bayesian credible intervals\n",
        "\n",
        "u=10\n",
        "o=2\n",
        "#n = arr.array('i', [5,10,20,40,80,160,1000])\n",
        "n=np.array([5,10,20,40,80,160,1000])\n",
        "confidence=0.95\n",
        "area=0.5*(1-confidence)\n",
        "\n",
        "print('Way 4. Bayesian Credible Intervals')\n",
        "for x in n:\n",
        "  data = []\n",
        "  #Creating a random sample using our mean, standard deviation, and each of the sample sizes\n",
        "  randnumgen = np.random.default_rng()\n",
        "  dataset = randnumgen.normal(loc=u, scale=o, size=x)\n",
        "  data.append(dataset)\n",
        "  #Calculating confidence intervals\n",
        "  confidenceinterval_way4 = st.bayes_mvs(data,confidence)\n",
        "  print('Confidence Interval for N of',x,':',confidenceinterval_way4[0][1])"
      ],
      "metadata": {
        "colab": {
          "base_uri": "https://localhost:8080/"
        },
        "id": "Ka3-dU6m2LUW",
        "outputId": "23cc5248-39c6-4567-c7b3-0d840973b370"
      },
      "execution_count": 121,
      "outputs": [
        {
          "output_type": "stream",
          "name": "stdout",
          "text": [
            "Way 4. Bayesian Credible Intervals\n",
            "Confidence Interval for N of 5 : (7.932122337313754, 10.752406026987124)\n",
            "Confidence Interval for N of 10 : (8.793150369753448, 11.220725124097118)\n",
            "Confidence Interval for N of 20 : (9.001176773780148, 10.868340567324594)\n",
            "Confidence Interval for N of 40 : (9.44425980340676, 10.79821142426747)\n",
            "Confidence Interval for N of 80 : (9.49967258397022, 10.269631072657791)\n",
            "Confidence Interval for N of 160 : (9.822538865719496, 10.445314555302486)\n",
            "Confidence Interval for N of 1000 : (9.848038884206035, 10.09229776501889)\n"
          ]
        }
      ]
    }
  ]
}